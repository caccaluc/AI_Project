{
 "cells": [
  {
   "cell_type": "markdown",
   "id": "f67baae8",
   "metadata": {},
   "source": [
    "## Datensatz 1 aufbereiten"
   ]
  },
  {
   "cell_type": "code",
   "execution_count": 2,
   "id": "415f6873",
   "metadata": {},
   "outputs": [
    {
     "name": "stdout",
     "output_type": "stream",
     "text": [
      "Zeilenanzahl: 22556\n",
      "   year  brand    model vehicle_class  engine_size_l  cylinders  \\\n",
      "0  2000  ACURA    1.6EL       COMPACT            1.6          4   \n",
      "1  2000  ACURA    1.6EL       COMPACT            1.6          4   \n",
      "2  2000  ACURA    3.2TL      MID-SIZE            3.2          6   \n",
      "3  2000  ACURA    3.5RL      MID-SIZE            3.5          6   \n",
      "4  2000  ACURA  INTEGRA    SUBCOMPACT            1.8          4   \n",
      "\n",
      "          fuel_type  consumption_l_per_100km  \n",
      "0  Regular gasoline                      8.1  \n",
      "1  Regular gasoline                      7.6  \n",
      "2  Premium gasoline                     10.0  \n",
      "3  Premium gasoline                     11.5  \n",
      "4  Regular gasoline                      8.6  \n"
     ]
    }
   ],
   "source": [
    "import pandas as pd\n",
    "\n",
    "# CSV Fuel_Consumption_2000-2022.csv laden \n",
    "df = pd.read_csv(\"../data/Fuel_Consumption_2000-2022.csv\")\n",
    "\n",
    "# Spalten bereinigen (Leerzeichen entfernen)\n",
    "df.columns = df.columns.str.strip()\n",
    "\n",
    "# Relevante Spalten auswählen\n",
    "df = df[[\n",
    "    'YEAR',\n",
    "    'MAKE',\n",
    "    'MODEL',\n",
    "    'VEHICLE CLASS',\n",
    "    'ENGINE SIZE',\n",
    "    'CYLINDERS',\n",
    "    'FUEL',\n",
    "    'COMB (L/100 km)'  \n",
    "]]\n",
    "\n",
    "# Spalten vereinfachen (umbenennen)\n",
    "df.columns = [\n",
    "    'year',\n",
    "    'brand',\n",
    "    'model',\n",
    "    'vehicle_class',\n",
    "    'engine_size_l',\n",
    "    'cylinders',\n",
    "    'fuel_type',\n",
    "    'consumption_l_per_100km'\n",
    "]\n",
    "\n",
    "# Kraftstoffcodes in lesbare Namen umwandeln\n",
    "fuel_mapping = {\n",
    "    \"X\": \"Regular gasoline\",\n",
    "    \"Z\": \"Premium gasoline\",\n",
    "    \"D\": \"Diesel\",\n",
    "    \"E\": \"Ethanol (E85)\",\n",
    "    \"N\": \"Natural Gas\"\n",
    "}\n",
    "\n",
    "df[\"fuel_type\"] = df[\"fuel_type\"].map(fuel_mapping)\n",
    "\n",
    "# Zeilenanzahl ausgeben\n",
    "print(\"Zeilenanzahl:\", df.shape[0])\n",
    "print(df.head())\n"
   ]
  },
  {
   "cell_type": "markdown",
   "id": "58cb89d8",
   "metadata": {},
   "source": [
    "## Datensatz 2 aufbereiten"
   ]
  },
  {
   "cell_type": "code",
   "execution_count": 3,
   "id": "cb53d80c",
   "metadata": {},
   "outputs": [
    {
     "name": "stdout",
     "output_type": "stream",
     "text": [
      "Zeilenanzahl: 38113\n",
      "   year       brand               model                vehicle_class  \\\n",
      "0  1984  Alfa Romeo           GT V6 2.5             Minicompact Cars   \n",
      "1  1984  Alfa Romeo           GT V6 2.5             Minicompact Cars   \n",
      "2  1984  Alfa Romeo  Spider Veloce 2000                  Two Seaters   \n",
      "3  1984  Alfa Romeo  Spider Veloce 2000                  Two Seaters   \n",
      "4  1984  AM General   DJ Po Vehicle 2WD  Special Purpose Vehicle 2WD   \n",
      "\n",
      "   engine_size_l  cylinders fuel_type  consumption_l_per_100km  \n",
      "0            2.5        6.0   Regular                11.760729  \n",
      "1            2.5        6.0   Regular                11.760729  \n",
      "2            2.0        4.0   Regular                11.200694  \n",
      "3            2.0        4.0   Regular                11.200694  \n",
      "4            2.5        4.0   Regular                13.836152  \n"
     ]
    },
    {
     "name": "stderr",
     "output_type": "stream",
     "text": [
      "C:\\Users\\lucac\\AppData\\Local\\Temp\\ipykernel_40520\\1460603810.py:2: DtypeWarning: Columns (7,44) have mixed types. Specify dtype option on import or set low_memory=False.\n",
      "  df2 = pd.read_csv(\"../data/fuel.csv\")\n"
     ]
    }
   ],
   "source": [
    "\n",
    "\n",
    "# Lade zweiten Datensatz fuel.csv\n",
    "df2 = pd.read_csv(\"../data/fuel.csv\")\n",
    "\n",
    "# Spalten bereinigen\n",
    "df2.columns = df2.columns.str.strip()\n",
    "\n",
    "# Relevante Spalten auswählen und umbenennen\n",
    "df2 = df2[[\n",
    "    'year',\n",
    "    'make',\n",
    "    'model',\n",
    "    'class',\n",
    "    'engine_cylinders',\n",
    "    'engine_displacement',\n",
    "    'fuel_type',\n",
    "    'combined_mpg_ft1'\n",
    "]]\n",
    "\n",
    "# Spalten vereinfachen\n",
    "df2.columns = [\n",
    "    'year',\n",
    "    'brand',\n",
    "    'model',\n",
    "    'vehicle_class',\n",
    "    'cylinders',\n",
    "    'engine_size_l',\n",
    "    'fuel_type',\n",
    "    'mpg'\n",
    "]\n",
    "\n",
    "# mpg in Vebrauch in l/100km umrechnen\n",
    "def mpg_to_l_per_100km(mpg):\n",
    "    return 235.214583 / mpg\n",
    "\n",
    "df2[\"consumption_l_per_100km\"] = df2[\"mpg\"].apply(mpg_to_l_per_100km)\n",
    "df2 = df2.drop(columns=[\"mpg\"])\n",
    "\n",
    "# Spaltenreihenfolge anpassen fürs Zusammenführen\n",
    "df2 = df2[[\n",
    "    'year',\n",
    "    'brand',\n",
    "    'model',\n",
    "    'vehicle_class',\n",
    "    'engine_size_l',\n",
    "    'cylinders',\n",
    "    'fuel_type',\n",
    "    'consumption_l_per_100km'\n",
    "]]\n",
    "\n",
    "print(\"Zeilenanzahl:\", df2.shape[0])\n",
    "print(df2.head())\n"
   ]
  },
  {
   "cell_type": "markdown",
   "id": "3581c8b9",
   "metadata": {},
   "source": [
    "## Datensätze zusammenführen"
   ]
  },
  {
   "cell_type": "code",
   "execution_count": 4,
   "id": "3be354b4",
   "metadata": {},
   "outputs": [
    {
     "name": "stdout",
     "output_type": "stream",
     "text": [
      "✅ Erfolgreich zusammengeführt. Zeilenanzahl: 60669\n",
      "   year  brand    model vehicle_class  engine_size_l  cylinders  \\\n",
      "0  2000  ACURA    1.6EL       COMPACT            1.6        4.0   \n",
      "1  2000  ACURA    1.6EL       COMPACT            1.6        4.0   \n",
      "2  2000  ACURA    3.2TL      MID-SIZE            3.2        6.0   \n",
      "3  2000  ACURA    3.5RL      MID-SIZE            3.5        6.0   \n",
      "4  2000  ACURA  INTEGRA    SUBCOMPACT            1.8        4.0   \n",
      "\n",
      "          fuel_type  consumption_l_per_100km  \n",
      "0  Regular gasoline                      8.1  \n",
      "1  Regular gasoline                      7.6  \n",
      "2  Premium gasoline                     10.0  \n",
      "3  Premium gasoline                     11.5  \n",
      "4  Regular gasoline                      8.6  \n"
     ]
    }
   ],
   "source": [
    "# Merge = vertikales Zusammenführen\n",
    "df_combined = pd.concat([df, df2], ignore_index=True)\n",
    "\n",
    "\n",
    "# Vorschau\n",
    "print(\"✅ Erfolgreich zusammengeführt. Zeilenanzahl:\", df_combined.shape[0])\n",
    "print(df_combined.head())"
   ]
  },
  {
   "cell_type": "markdown",
   "id": "28718068",
   "metadata": {},
   "source": [
    "## Vehicle_class generalisieren"
   ]
  },
  {
   "cell_type": "code",
   "execution_count": 5,
   "id": "de32becf",
   "metadata": {},
   "outputs": [
    {
     "name": "stdout",
     "output_type": "stream",
     "text": [
      "🔍 Vereinheitlichte vehicle_class Werte: ['Car - Small' 'Car - Midsize' 'Other' 'Special' 'Car - Large' 'SUV'\n",
      " 'Van/Minivan' 'Pickup Truck']\n",
      "       year  brand          model  vehicle_class  engine_size_l  cylinders  \\\n",
      "0      2000  ACURA          1.6EL    Car - Small            1.6        4.0   \n",
      "1      2000  ACURA          1.6EL    Car - Small            1.6        4.0   \n",
      "2      2000  ACURA          3.2TL  Car - Midsize            3.2        6.0   \n",
      "3      2000  ACURA          3.5RL  Car - Midsize            3.5        6.0   \n",
      "4      2000  ACURA        INTEGRA    Car - Small            1.8        4.0   \n",
      "...     ...    ...            ...            ...            ...        ...   \n",
      "60664  2017  Volvo       XC60 FWD            SUV            2.0        4.0   \n",
      "60665  2017  Volvo       XC90 AWD            SUV            2.0        4.0   \n",
      "60666  2017  Volvo       XC90 AWD            SUV            2.0        4.0   \n",
      "60667  2017  Volvo  XC90 AWD PHEV            SUV            2.0        4.0   \n",
      "60668  2017  Volvo       XC90 FWD            SUV            2.0        4.0   \n",
      "\n",
      "                     fuel_type  consumption_l_per_100km  \n",
      "0             Regular gasoline                 8.100000  \n",
      "1             Regular gasoline                 7.600000  \n",
      "2             Premium gasoline                10.000000  \n",
      "3             Premium gasoline                11.500000  \n",
      "4             Regular gasoline                 8.600000  \n",
      "...                        ...                      ...  \n",
      "60664                  Regular                 9.046715  \n",
      "60665                  Premium                10.691572  \n",
      "60666                  Premium                10.226721  \n",
      "60667  Premium and Electricity                 9.408583  \n",
      "60668                  Premium                 9.800608  \n",
      "\n",
      "[60669 rows x 8 columns]\n",
      "Zeilenanzahl: 60669\n"
     ]
    }
   ],
   "source": [
    "# Vereinheitliche die Spalte: alles klein schreiben und Leerzeichen entfernen\n",
    "df_combined[\"vehicle_class\"] = df_combined[\"vehicle_class\"].str.strip().str.lower()\n",
    "\n",
    "# Mapping Dictionary (alles klein)\n",
    "vehicle_class_map = {\n",
    "    # Small cars\n",
    "    \"compact\": \"Car - Small\",\n",
    "    \"subcompact\": \"Car - Small\",\n",
    "    \"subcompact cars\": \"Car - Small\",\n",
    "    \"minicompact\": \"Car - Small\",\n",
    "    \"minicompact cars\": \"Car - Small\",\n",
    "    \"compact cars\": \"Car - Small\",\n",
    "    \"small station wagons\": \"Car - Small\",\n",
    "\n",
    "    # Midsize\n",
    "    \"mid-size\": \"Car - Midsize\",\n",
    "    \"midsize cars\": \"Car - Midsize\",\n",
    "    \"midsize station wagons\": \"Car - Midsize\",\n",
    "    \"station wagon: small\": \"Car - Midsize\",\n",
    "    \"station wagon: mid-size\": \"Car - Midsize\",\n",
    "\n",
    "    # Large\n",
    "    \"full-size\": \"Car - Large\",\n",
    "    \"full-size cars\": \"Car - Large\",\n",
    "    \"large cars\": \"Car - Large\",\n",
    "    \"midsize-large station wagons\": \"Car - Large\",\n",
    "\n",
    "    # SUVs\n",
    "    \"suv\": \"SUV\",\n",
    "    \"suv - small\": \"SUV\",\n",
    "    \"suv - standard\": \"SUV\",\n",
    "    \"suv: small\": \"SUV\",\n",
    "    \"suv: standard\": \"SUV\",\n",
    "    \"small sport utility vehicle 2wd\": \"SUV\",\n",
    "    \"small sport utility vehicle 4wd\": \"SUV\",\n",
    "    \"standard sport utility vehicle 2wd\": \"SUV\",\n",
    "    \"standard sport utility vehicle 4wd\": \"SUV\",\n",
    "    \"sport utility vehicle - 2wd\": \"SUV\",\n",
    "    \"sport utility vehicle - 4wd\": \"SUV\",\n",
    "\n",
    "    # Pickup Trucks\n",
    "    \"pickup truck - small\": \"Pickup Truck\",\n",
    "    \"pickup truck - standard\": \"Pickup Truck\",\n",
    "    \"pickup truck: small\": \"Pickup Truck\",\n",
    "    \"pickup truck: standard\": \"Pickup Truck\",\n",
    "    \"small pickup trucks\": \"Pickup Truck\",\n",
    "    \"small pickup trucks 2wd\": \"Pickup Truck\",\n",
    "    \"small pickup trucks 4wd\": \"Pickup Truck\",\n",
    "    \"standard pickup trucks\": \"Pickup Truck\",\n",
    "    \"standard pickup trucks 2wd\": \"Pickup Truck\",\n",
    "    \"standard pickup trucks 4wd\": \"Pickup Truck\",\n",
    "    \"standard pickup trucks/2wd\": \"Pickup Truck\",\n",
    "\n",
    "    # Vans & Minivans\n",
    "    \"van\": \"Van/Minivan\",\n",
    "    \"van - cargo\": \"Van/Minivan\",\n",
    "    \"van - passenger\": \"Van/Minivan\",\n",
    "    \"minivan\": \"Van/Minivan\",\n",
    "    \"minivan - 2wd\": \"Van/Minivan\",\n",
    "    \"minivan - 4wd\": \"Van/Minivan\",\n",
    "    \"vans\": \"Van/Minivan\",\n",
    "    \"vans, passenger type\": \"Van/Minivan\",\n",
    "    \"vans, cargo type\": \"Van/Minivan\",\n",
    "    \"vans passenger\": \"Van/Minivan\",\n",
    "\n",
    "    # Special purpose\n",
    "    \"two-seater\": \"Special\",\n",
    "    \"two seaters\": \"Special\",\n",
    "    \"special purpose vehicle\": \"Special\",\n",
    "    \"special purpose vehicle 2wd\": \"Special\",\n",
    "    \"special purpose vehicle 4wd\": \"Special\",\n",
    "    \"special purpose vehicles\": \"Special\",\n",
    "    \"special purpose vehicles/2wd\": \"Special\",\n",
    "    \"special purpose vehicles/4wd\": \"Special\"\n",
    "}\n",
    "\n",
    "# Mapping anwenden und fehlende Werte mit \"Other\" ersetzen\n",
    "df_combined[\"vehicle_class\"] = df_combined[\"vehicle_class\"].map(vehicle_class_map).fillna(\"Other\")\n",
    "\n",
    "# Ausgabe zur Kontrolle\n",
    "print(\"🔍 Vereinheitlichte vehicle_class Werte:\", df_combined[\"vehicle_class\"].unique())\n",
    "\n",
    "# Ausgabe der Tabelle\n",
    "print(df_combined)\n",
    "\n",
    "# Vorschau nach dem Entfernen von Duplikaten\n",
    "print(\"Zeilenanzahl:\", df_combined.shape[0])\n",
    "\n"
   ]
  },
  {
   "cell_type": "markdown",
   "id": "bce7f9b3",
   "metadata": {},
   "source": [
    "## Fueltype generalisieren"
   ]
  },
  {
   "cell_type": "code",
   "execution_count": 6,
   "id": "7cee3a6c",
   "metadata": {},
   "outputs": [
    {
     "name": "stdout",
     "output_type": "stream",
     "text": [
      "Verschiedene fuel_type Werte: ['Regular gasoline' 'Premium gasoline' 'Ethanol (E85)' 'Natural Gas'\n",
      " 'Diesel' 'Regular' 'Premium' 'CNG' 'Electricity'\n",
      " 'Gasoline or natural gas' 'Gasoline or E85' 'Gasoline or propane'\n",
      " 'Premium or E85' 'Premium Gas or Electricity' 'Midgrade'\n",
      " 'Regular Gas and Electricity' 'Premium and Electricity'\n",
      " 'Regular Gas or Electricity']\n",
      "fuel_type nach Generalisierung: ['gasoline regular' 'gasoline premium' 'diesel']\n",
      "   year  brand    model  vehicle_class  engine_size_l  cylinders  \\\n",
      "0  2000  ACURA    1.6EL    Car - Small            1.6        4.0   \n",
      "1  2000  ACURA    1.6EL    Car - Small            1.6        4.0   \n",
      "2  2000  ACURA    3.2TL  Car - Midsize            3.2        6.0   \n",
      "3  2000  ACURA    3.5RL  Car - Midsize            3.5        6.0   \n",
      "4  2000  ACURA  INTEGRA    Car - Small            1.8        4.0   \n",
      "\n",
      "          fuel_type  consumption_l_per_100km  \n",
      "0  gasoline regular                      8.1  \n",
      "1  gasoline regular                      7.6  \n",
      "2  gasoline premium                     10.0  \n",
      "3  gasoline premium                     11.5  \n",
      "4  gasoline regular                      8.6  \n",
      "Zeilenanzahl nach Bereinigung: 57934\n"
     ]
    }
   ],
   "source": [
    "# Zeige vorab alle Rohwerte zur Kontrolle\n",
    "print(\"Verschiedene fuel_type Werte:\", df_combined[\"fuel_type\"].unique())\n",
    "\n",
    "# Vereinheitliche fuel_type: alles klein, Leerzeichen entfernen\n",
    "df_combined[\"fuel_type\"] = df_combined[\"fuel_type\"].str.lower().str.strip()\n",
    "\n",
    "# Mapping-Dictionary\n",
    "fuel_map = {\n",
    "    \"regular gasoline\": \"gasoline regular\",\n",
    "    \"regular\": \"gasoline regular\",\n",
    "    \"midgrade\": \"gasoline regular\",\n",
    "    \"premium gasoline\": \"gasoline premium\",\n",
    "    \"premium\": \"gasoline premium\",\n",
    "    \"diesel\": \"diesel\"\n",
    "}\n",
    "\n",
    "# Mapping direkt zurück in fuel_type schreiben\n",
    "df_combined[\"fuel_type\"] = df_combined[\"fuel_type\"].map(fuel_map)\n",
    "\n",
    "# Alle nicht gemappten Einträge (= alternative, hybrid, elektrisch etc.) entfernen\n",
    "df_combined = df_combined[df_combined[\"fuel_type\"].notna()]\n",
    "\n",
    "# Kontrolle: Mögliche Werte nach Bereinigung\n",
    "print(\"fuel_type nach Generalisierung:\", df_combined[\"fuel_type\"].unique())\n",
    "\n",
    "# Vorschau\n",
    "print(df_combined.head())\n",
    "\n",
    "# Vorschau nach dem Entfernen von fuel_type alternative, hybrid, elektrisch etc.\n",
    "print(\"Zeilenanzahl nach Bereinigung:\", df_combined.shape[0])\n",
    "\n"
   ]
  },
  {
   "cell_type": "markdown",
   "id": "565c9cc5",
   "metadata": {},
   "source": [
    "## Brand und Model vereinheitlichen"
   ]
  },
  {
   "cell_type": "code",
   "execution_count": 7,
   "id": "3d44ed92",
   "metadata": {},
   "outputs": [],
   "source": [
    "# Vereinheitliche Brand und Model auf Großbuchstaben und entferne führende Leerzeichen\n",
    "df_combined[\"brand\"] = df_combined[\"brand\"].str.upper().str.strip()\n",
    "df_combined[\"model\"] = df_combined[\"model\"].str.upper().str.strip()\n",
    "\n",
    "\n"
   ]
  },
  {
   "cell_type": "markdown",
   "id": "8dfedadd",
   "metadata": {},
   "source": [
    "## Duplikate bereinigen"
   ]
  },
  {
   "cell_type": "code",
   "execution_count": 8,
   "id": "92359519",
   "metadata": {},
   "outputs": [
    {
     "name": "stdout",
     "output_type": "stream",
     "text": [
      "Zeilenanzahl nach Entfernen von Duplikaten: 52248\n"
     ]
    }
   ],
   "source": [
    "\n",
    "# Entferne nur komplett identische Zeilen\n",
    "df_combined = df_combined.drop_duplicates()\n",
    "# Vorschau nach dem Entfernen von Duplikaten\n",
    "print(\"Zeilenanzahl nach Entfernen von Duplikaten:\", df_combined.shape[0])\n",
    "\n",
    "\n"
   ]
  },
  {
   "cell_type": "markdown",
   "id": "2d385f56",
   "metadata": {},
   "source": [
    "## Mittelwertbildung bei identischen Fahrzeugkonfigurationen"
   ]
  },
  {
   "cell_type": "code",
   "execution_count": 9,
   "id": "16aa43ba",
   "metadata": {},
   "outputs": [
    {
     "name": "stdout",
     "output_type": "stream",
     "text": [
      "Zeilenanzahl nach Zusammenführung des Mittelwertes 34957\n"
     ]
    }
   ],
   "source": [
    "# Gruppiere nach eindeutiger Fahrzeugkonfiguration\n",
    "df_combined = df_combined.groupby([\n",
    "    'year',\n",
    "    'brand',\n",
    "    'model',\n",
    "    'vehicle_class',\n",
    "    'engine_size_l',\n",
    "    'cylinders',\n",
    "    'fuel_type'\n",
    "], as_index=False).agg({\n",
    "    'consumption_l_per_100km': 'mean'\n",
    "})\n",
    "\n",
    "# Vorschau nach dem Entfernen von Duplikaten\n",
    "print(\"Zeilenanzahl nach Zusammenführung des Mittelwertes\", df_combined.shape[0])\n"
   ]
  },
  {
   "cell_type": "markdown",
   "id": "478e9e20",
   "metadata": {},
   "source": [
    "## Tabelle in neue CSV-Datei speichern"
   ]
  },
  {
   "cell_type": "code",
   "execution_count": 10,
   "id": "4e59ddcb",
   "metadata": {},
   "outputs": [],
   "source": [
    "# neue csv-Datei speichern\n",
    "df_combined.to_csv(\"../data/fuel_combined.csv\", index=False)"
   ]
  }
 ],
 "metadata": {
  "kernelspec": {
   "display_name": "base",
   "language": "python",
   "name": "python3"
  },
  "language_info": {
   "codemirror_mode": {
    "name": "ipython",
    "version": 3
   },
   "file_extension": ".py",
   "mimetype": "text/x-python",
   "name": "python",
   "nbconvert_exporter": "python",
   "pygments_lexer": "ipython3",
   "version": "3.12.7"
  }
 },
 "nbformat": 4,
 "nbformat_minor": 5
}
