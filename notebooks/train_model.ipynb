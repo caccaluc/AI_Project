{
 "cells": [
  {
   "cell_type": "code",
   "execution_count": 7,
   "id": "52e7206a",
   "metadata": {},
   "outputs": [
    {
     "name": "stdout",
     "output_type": "stream",
     "text": [
      "LINEAR REGRESSION\n",
      "R²: 0.7863592927485754\n",
      "R² TRAIN (Linear): 0.7941341743801263\n",
      "MSE: 2.0563568161652617\n",
      "RANDOM FOREST\n",
      "R²: 0.9021406753538596\n",
      "R² TRAIN: 0.951886497203305\n",
      "MSE: 0.9419257773968925\n",
      "Bestes Modell gespeichert: best_model.pkl\n"
     ]
    }
   ],
   "source": [
    "import pandas as pd\n",
    "from sklearn.model_selection import train_test_split\n",
    "from sklearn.linear_model import LinearRegression\n",
    "from sklearn.ensemble import RandomForestRegressor\n",
    "from sklearn.metrics import mean_squared_error, r2_score\n",
    "import joblib\n",
    "\n",
    "# 1. CSV laden\n",
    "df = pd.read_csv(\"../data/fuel_combined.csv\")\n",
    "\n",
    "# 2. Zielvariable definieren\n",
    "y = df[\"consumption_l_per_100km\"]\n",
    "\n",
    "# 3. Feature-Matrix (ungecodet)\n",
    "X = df[[\"brand\", \"vehicle_class\", \"fuel_type\", \"engine_size_l\", \"cylinders\", \"year\"]]\n",
    "\n",
    "# 4. One-Hot-Encoding\n",
    "X_encoded = pd.get_dummies(X, columns=[\"brand\", \"vehicle_class\", \"fuel_type\"], drop_first=True)\n",
    "\n",
    "# 5. Funktion zum Abrufen von Dummy-Spalten\n",
    "def get_encoded_features(prefix, df):\n",
    "    return [col for col in df.columns if col.startswith(prefix + \"_\")]\n",
    "\n",
    "# 6. Feature-Auswahl wie in Iteration 6\n",
    "features = [\"engine_size_l\", \"cylinders\", \"year\"] + \\\n",
    "           get_encoded_features(\"fuel_type\", X_encoded) + \\\n",
    "           get_encoded_features(\"vehicle_class\", X_encoded) + \\\n",
    "           get_encoded_features(\"brand\", X_encoded)\n",
    "\n",
    "# 7. Train/Test-Split mit definierten Features\n",
    "X_train, X_test, y_train, y_test = train_test_split(X_encoded[features], y, test_size=0.2, random_state=42)\n",
    "\n",
    "# 8. Modell 1: Lineare Regression\n",
    "lr = LinearRegression()\n",
    "lr.fit(X_train, y_train)\n",
    "y_pred_lr = lr.predict(X_test)\n",
    "\n",
    "# 9. Modell 2: Random Forest\n",
    "rf = RandomForestRegressor(random_state=42)\n",
    "rf.fit(X_train, y_train)\n",
    "y_pred_rf = rf.predict(X_test)\n",
    "\n",
    "# 10. Evaluation\n",
    "print(\"LINEAR REGRESSION\")\n",
    "print(\"R²:\", r2_score(y_test, y_pred_lr))\n",
    "y_pred_train_lr = lr.predict(X_train)\n",
    "print(\"R² TRAIN (Linear):\", r2_score(y_train, y_pred_train_lr))\n",
    "print(\"MSE:\", mean_squared_error(y_test, y_pred_lr))\n",
    "\n",
    "\n",
    "print(\"RANDOM FOREST\")\n",
    "print(\"R²:\", r2_score(y_test, y_pred_rf))\n",
    "y_pred_train_rf = rf.predict(X_train)\n",
    "print(\"R² TRAIN:\", r2_score(y_train, y_pred_train_rf))\n",
    "print(\"MSE:\", mean_squared_error(y_test, y_pred_rf))\n",
    "\n",
    "\n",
    "# 11. Bestes Modell speichern\n",
    "best_model = rf\n",
    "joblib.dump(best_model, \"../models/best_model.pkl\")\n",
    "print(\"Bestes Modell gespeichert: best_model.pkl\")\n",
    "\n"
   ]
  }
 ],
 "metadata": {
  "kernelspec": {
   "display_name": "base",
   "language": "python",
   "name": "python3"
  },
  "language_info": {
   "codemirror_mode": {
    "name": "ipython",
    "version": 3
   },
   "file_extension": ".py",
   "mimetype": "text/x-python",
   "name": "python",
   "nbconvert_exporter": "python",
   "pygments_lexer": "ipython3",
   "version": "3.12.7"
  }
 },
 "nbformat": 4,
 "nbformat_minor": 5
}
